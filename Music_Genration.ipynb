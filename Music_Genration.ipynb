{
 "cells": [
  {
   "cell_type": "code",
   "execution_count": 1,
   "id": "2014fa88",
   "metadata": {
    "execution": {
     "iopub.execute_input": "2022-04-16T07:25:13.168483Z",
     "iopub.status.busy": "2022-04-16T07:25:13.167315Z",
     "iopub.status.idle": "2022-04-16T07:26:08.436947Z",
     "shell.execute_reply": "2022-04-16T07:26:08.436120Z",
     "shell.execute_reply.started": "2022-04-16T07:22:54.510080Z"
    },
    "papermill": {
     "duration": 55.322526,
     "end_time": "2022-04-16T07:26:08.437170",
     "exception": false,
     "start_time": "2022-04-16T07:25:13.114644",
     "status": "completed"
    },
    "tags": []
   },
   "outputs": [
    {
     "name": "stdout",
     "output_type": "stream",
     "text": [
      "Collecting tensorflowjs\r\n",
      "  Downloading tensorflowjs-3.15.0-py3-none-any.whl (77 kB)\r\n",
      "     |████████████████████████████████| 77 kB 661 kB/s            \r\n",
      "\u001b[?25hRequirement already satisfied: six<2,>=1.12.0 in /opt/conda/lib/python3.7/site-packages (from tensorflowjs) (1.16.0)\r\n",
      "Requirement already satisfied: tensorflow-hub<0.13,>=0.7.0 in /opt/conda/lib/python3.7/site-packages (from tensorflowjs) (0.12.0)\r\n",
      "Requirement already satisfied: tensorflow<3,>=2.1.0 in /opt/conda/lib/python3.7/site-packages (from tensorflowjs) (2.6.2)\r\n",
      "Collecting numpy~=1.19.2\r\n",
      "  Downloading numpy-1.19.5-cp37-cp37m-manylinux2010_x86_64.whl (14.8 MB)\r\n",
      "     |████████████████████████████████| 14.8 MB 1.2 MB/s            \r\n",
      "\u001b[?25hRequirement already satisfied: clang~=5.0 in /opt/conda/lib/python3.7/site-packages (from tensorflow<3,>=2.1.0->tensorflowjs) (5.0)\r\n",
      "Requirement already satisfied: astunparse~=1.6.3 in /opt/conda/lib/python3.7/site-packages (from tensorflow<3,>=2.1.0->tensorflowjs) (1.6.3)\r\n",
      "Requirement already satisfied: opt-einsum~=3.3.0 in /opt/conda/lib/python3.7/site-packages (from tensorflow<3,>=2.1.0->tensorflowjs) (3.3.0)\r\n",
      "Requirement already satisfied: h5py~=3.1.0 in /opt/conda/lib/python3.7/site-packages (from tensorflow<3,>=2.1.0->tensorflowjs) (3.1.0)\r\n",
      "Requirement already satisfied: keras-preprocessing~=1.1.2 in /opt/conda/lib/python3.7/site-packages (from tensorflow<3,>=2.1.0->tensorflowjs) (1.1.2)\r\n",
      "Requirement already satisfied: wheel~=0.35 in /opt/conda/lib/python3.7/site-packages (from tensorflow<3,>=2.1.0->tensorflowjs) (0.37.0)\r\n",
      "Requirement already satisfied: tensorflow-estimator<2.7,>=2.6.0 in /opt/conda/lib/python3.7/site-packages (from tensorflow<3,>=2.1.0->tensorflowjs) (2.6.0)\r\n",
      "Requirement already satisfied: tensorboard<2.7,>=2.6.0 in /opt/conda/lib/python3.7/site-packages (from tensorflow<3,>=2.1.0->tensorflowjs) (2.6.0)\r\n",
      "Requirement already satisfied: gast==0.4.0 in /opt/conda/lib/python3.7/site-packages (from tensorflow<3,>=2.1.0->tensorflowjs) (0.4.0)\r\n",
      "Collecting six<2,>=1.12.0\r\n",
      "  Downloading six-1.15.0-py2.py3-none-any.whl (10 kB)\r\n",
      "Collecting wrapt~=1.12.1\r\n",
      "  Downloading wrapt-1.12.1.tar.gz (27 kB)\r\n",
      "  Preparing metadata (setup.py) ... \u001b[?25l-\b \bdone\r\n",
      "\u001b[?25hRequirement already satisfied: keras<2.7,>=2.6.0 in /opt/conda/lib/python3.7/site-packages (from tensorflow<3,>=2.1.0->tensorflowjs) (2.6.0)\r\n",
      "Requirement already satisfied: termcolor~=1.1.0 in /opt/conda/lib/python3.7/site-packages (from tensorflow<3,>=2.1.0->tensorflowjs) (1.1.0)\r\n",
      "Requirement already satisfied: grpcio<2.0,>=1.37.0 in /opt/conda/lib/python3.7/site-packages (from tensorflow<3,>=2.1.0->tensorflowjs) (1.43.0)\r\n",
      "Collecting typing-extensions~=3.7.4\r\n",
      "  Downloading typing_extensions-3.7.4.3-py3-none-any.whl (22 kB)\r\n",
      "Requirement already satisfied: absl-py~=0.10 in /opt/conda/lib/python3.7/site-packages (from tensorflow<3,>=2.1.0->tensorflowjs) (0.15.0)\r\n",
      "Requirement already satisfied: flatbuffers~=1.12.0 in /opt/conda/lib/python3.7/site-packages (from tensorflow<3,>=2.1.0->tensorflowjs) (1.12)\r\n",
      "Requirement already satisfied: google-pasta~=0.2 in /opt/conda/lib/python3.7/site-packages (from tensorflow<3,>=2.1.0->tensorflowjs) (0.2.0)\r\n",
      "Requirement already satisfied: protobuf>=3.9.2 in /opt/conda/lib/python3.7/site-packages (from tensorflow<3,>=2.1.0->tensorflowjs) (3.19.4)\r\n",
      "Requirement already satisfied: cached-property in /opt/conda/lib/python3.7/site-packages (from h5py~=3.1.0->tensorflow<3,>=2.1.0->tensorflowjs) (1.5.2)\r\n",
      "Requirement already satisfied: tensorboard-data-server<0.7.0,>=0.6.0 in /opt/conda/lib/python3.7/site-packages (from tensorboard<2.7,>=2.6.0->tensorflow<3,>=2.1.0->tensorflowjs) (0.6.1)\r\n",
      "Requirement already satisfied: setuptools>=41.0.0 in /opt/conda/lib/python3.7/site-packages (from tensorboard<2.7,>=2.6.0->tensorflow<3,>=2.1.0->tensorflowjs) (59.5.0)\r\n",
      "Requirement already satisfied: google-auth-oauthlib<0.5,>=0.4.1 in /opt/conda/lib/python3.7/site-packages (from tensorboard<2.7,>=2.6.0->tensorflow<3,>=2.1.0->tensorflowjs) (0.4.6)\r\n",
      "Requirement already satisfied: tensorboard-plugin-wit>=1.6.0 in /opt/conda/lib/python3.7/site-packages (from tensorboard<2.7,>=2.6.0->tensorflow<3,>=2.1.0->tensorflowjs) (1.8.0)\r\n",
      "Requirement already satisfied: google-auth<2,>=1.6.3 in /opt/conda/lib/python3.7/site-packages (from tensorboard<2.7,>=2.6.0->tensorflow<3,>=2.1.0->tensorflowjs) (1.35.0)\r\n",
      "Requirement already satisfied: requests<3,>=2.21.0 in /opt/conda/lib/python3.7/site-packages (from tensorboard<2.7,>=2.6.0->tensorflow<3,>=2.1.0->tensorflowjs) (2.26.0)\r\n",
      "Requirement already satisfied: werkzeug>=0.11.15 in /opt/conda/lib/python3.7/site-packages (from tensorboard<2.7,>=2.6.0->tensorflow<3,>=2.1.0->tensorflowjs) (2.0.2)\r\n",
      "Requirement already satisfied: markdown>=2.6.8 in /opt/conda/lib/python3.7/site-packages (from tensorboard<2.7,>=2.6.0->tensorflow<3,>=2.1.0->tensorflowjs) (3.3.6)\r\n",
      "Requirement already satisfied: pyasn1-modules>=0.2.1 in /opt/conda/lib/python3.7/site-packages (from google-auth<2,>=1.6.3->tensorboard<2.7,>=2.6.0->tensorflow<3,>=2.1.0->tensorflowjs) (0.2.7)\r\n",
      "Requirement already satisfied: rsa<5,>=3.1.4 in /opt/conda/lib/python3.7/site-packages (from google-auth<2,>=1.6.3->tensorboard<2.7,>=2.6.0->tensorflow<3,>=2.1.0->tensorflowjs) (4.8)\r\n",
      "Requirement already satisfied: cachetools<5.0,>=2.0.0 in /opt/conda/lib/python3.7/site-packages (from google-auth<2,>=1.6.3->tensorboard<2.7,>=2.6.0->tensorflow<3,>=2.1.0->tensorflowjs) (4.2.4)\r\n",
      "Requirement already satisfied: requests-oauthlib>=0.7.0 in /opt/conda/lib/python3.7/site-packages (from google-auth-oauthlib<0.5,>=0.4.1->tensorboard<2.7,>=2.6.0->tensorflow<3,>=2.1.0->tensorflowjs) (1.3.0)\r\n",
      "Requirement already satisfied: importlib-metadata>=4.4 in /opt/conda/lib/python3.7/site-packages (from markdown>=2.6.8->tensorboard<2.7,>=2.6.0->tensorflow<3,>=2.1.0->tensorflowjs) (4.11.3)\r\n",
      "Requirement already satisfied: charset-normalizer~=2.0.0 in /opt/conda/lib/python3.7/site-packages (from requests<3,>=2.21.0->tensorboard<2.7,>=2.6.0->tensorflow<3,>=2.1.0->tensorflowjs) (2.0.9)\r\n",
      "Requirement already satisfied: urllib3<1.27,>=1.21.1 in /opt/conda/lib/python3.7/site-packages (from requests<3,>=2.21.0->tensorboard<2.7,>=2.6.0->tensorflow<3,>=2.1.0->tensorflowjs) (1.26.7)\r\n",
      "Requirement already satisfied: certifi>=2017.4.17 in /opt/conda/lib/python3.7/site-packages (from requests<3,>=2.21.0->tensorboard<2.7,>=2.6.0->tensorflow<3,>=2.1.0->tensorflowjs) (2021.10.8)\r\n",
      "Requirement already satisfied: idna<4,>=2.5 in /opt/conda/lib/python3.7/site-packages (from requests<3,>=2.21.0->tensorboard<2.7,>=2.6.0->tensorflow<3,>=2.1.0->tensorflowjs) (3.1)\r\n",
      "Requirement already satisfied: zipp>=0.5 in /opt/conda/lib/python3.7/site-packages (from importlib-metadata>=4.4->markdown>=2.6.8->tensorboard<2.7,>=2.6.0->tensorflow<3,>=2.1.0->tensorflowjs) (3.6.0)\r\n",
      "Requirement already satisfied: pyasn1<0.5.0,>=0.4.6 in /opt/conda/lib/python3.7/site-packages (from pyasn1-modules>=0.2.1->google-auth<2,>=1.6.3->tensorboard<2.7,>=2.6.0->tensorflow<3,>=2.1.0->tensorflowjs) (0.4.8)\r\n",
      "Requirement already satisfied: oauthlib>=3.0.0 in /opt/conda/lib/python3.7/site-packages (from requests-oauthlib>=0.7.0->google-auth-oauthlib<0.5,>=0.4.1->tensorboard<2.7,>=2.6.0->tensorflow<3,>=2.1.0->tensorflowjs) (3.1.1)\r\n",
      "Building wheels for collected packages: wrapt\r\n",
      "  Building wheel for wrapt (setup.py) ... \u001b[?25l-\b \b\\\b \b|\b \bdone\r\n",
      "\u001b[?25h  Created wheel for wrapt: filename=wrapt-1.12.1-cp37-cp37m-linux_x86_64.whl size=77056 sha256=cf358a2d75dcab40177fa733e1854cc9aa29be6a441b34b1377849a7b324d9e6\r\n",
      "  Stored in directory: /root/.cache/pip/wheels/62/76/4c/aa25851149f3f6d9785f6c869387ad82b3fd37582fa8147ac6\r\n",
      "Successfully built wrapt\r\n",
      "Installing collected packages: typing-extensions, six, numpy, wrapt, tensorflowjs\r\n",
      "  Attempting uninstall: typing-extensions\r\n",
      "    Found existing installation: typing-extensions 4.1.1\r\n",
      "    Uninstalling typing-extensions-4.1.1:\r\n",
      "      Successfully uninstalled typing-extensions-4.1.1\r\n",
      "  Attempting uninstall: six\r\n",
      "    Found existing installation: six 1.16.0\r\n",
      "    Uninstalling six-1.16.0:\r\n",
      "      Successfully uninstalled six-1.16.0\r\n",
      "  Attempting uninstall: numpy\r\n",
      "    Found existing installation: numpy 1.20.3\r\n",
      "    Uninstalling numpy-1.20.3:\r\n",
      "      Successfully uninstalled numpy-1.20.3\r\n",
      "  Attempting uninstall: wrapt\r\n",
      "    Found existing installation: wrapt 1.13.3\r\n",
      "    Uninstalling wrapt-1.13.3:\r\n",
      "      Successfully uninstalled wrapt-1.13.3\r\n",
      "\u001b[31mERROR: pip's dependency resolver does not currently take into account all the packages that are installed. This behaviour is the source of the following dependency conflicts.\r\n",
      "tensorflow-io 0.21.0 requires tensorflow-io-gcs-filesystem==0.21.0, which is not installed.\r\n",
      "explainable-ai-sdk 1.3.2 requires xai-image-widget, which is not installed.\r\n",
      "dask-cudf 21.10.1 requires cupy-cuda114, which is not installed.\r\n",
      "beatrix-jupyterlab 3.1.6 requires google-cloud-bigquery-storage, which is not installed.\r\n",
      "tfx-bsl 1.5.0 requires absl-py<0.13,>=0.9, but you have absl-py 0.15.0 which is incompatible.\r\n",
      "tfx-bsl 1.5.0 requires pyarrow<6,>=1, but you have pyarrow 6.0.1 which is incompatible.\r\n",
      "tfx-bsl 1.5.0 requires tensorflow!=2.0.*,!=2.1.*,!=2.2.*,!=2.3.*,!=2.4.*,!=2.5.*,!=2.6.*,<3,>=1.15.2, but you have tensorflow 2.6.2 which is incompatible.\r\n",
      "tensorflow-transform 1.5.0 requires absl-py<0.13,>=0.9, but you have absl-py 0.15.0 which is incompatible.\r\n",
      "tensorflow-transform 1.5.0 requires pyarrow<6,>=1, but you have pyarrow 6.0.1 which is incompatible.\r\n",
      "tensorflow-transform 1.5.0 requires tensorflow!=2.0.*,!=2.1.*,!=2.2.*,!=2.3.*,!=2.4.*,!=2.5.*,!=2.6.*,<2.8,>=1.15.2, but you have tensorflow 2.6.2 which is incompatible.\r\n",
      "tensorflow-serving-api 2.7.0 requires tensorflow<3,>=2.7.0, but you have tensorflow 2.6.2 which is incompatible.\r\n",
      "pdpbox 0.2.1 requires matplotlib==3.1.1, but you have matplotlib 3.5.1 which is incompatible.\r\n",
      "optax 0.1.1 requires typing-extensions>=3.10.0, but you have typing-extensions 3.7.4.3 which is incompatible.\r\n",
      "gcsfs 2021.11.1 requires fsspec==2021.11.1, but you have fsspec 2022.2.0 which is incompatible.\r\n",
      "flake8 4.0.1 requires importlib-metadata<4.3; python_version < \"3.8\", but you have importlib-metadata 4.11.3 which is incompatible.\r\n",
      "featuretools 1.6.0 requires numpy>=1.21.0, but you have numpy 1.19.5 which is incompatible.\r\n",
      "dask-cudf 21.10.1 requires dask==2021.09.1, but you have dask 2022.2.0 which is incompatible.\r\n",
      "dask-cudf 21.10.1 requires distributed==2021.09.1, but you have distributed 2022.2.0 which is incompatible.\r\n",
      "bokeh 2.4.2 requires typing-extensions>=3.10.0, but you have typing-extensions 3.7.4.3 which is incompatible.\r\n",
      "black 21.12b0 requires typing-extensions>=3.10.0.0, but you have typing-extensions 3.7.4.3 which is incompatible.\r\n",
      "apache-beam 2.34.0 requires dill<0.3.2,>=0.3.1.1, but you have dill 0.3.4 which is incompatible.\r\n",
      "apache-beam 2.34.0 requires httplib2<0.20.0,>=0.8, but you have httplib2 0.20.2 which is incompatible.\r\n",
      "apache-beam 2.34.0 requires pyarrow<6.0.0,>=0.15.1, but you have pyarrow 6.0.1 which is incompatible.\r\n",
      "aioitertools 0.10.0 requires typing_extensions>=4.0; python_version < \"3.10\", but you have typing-extensions 3.7.4.3 which is incompatible.\r\n",
      "aiobotocore 2.1.2 requires botocore<1.23.25,>=1.23.24, but you have botocore 1.24.20 which is incompatible.\u001b[0m\r\n",
      "Successfully installed numpy-1.19.5 six-1.15.0 tensorflowjs-3.15.0 typing-extensions-3.7.4.3 wrapt-1.12.1\r\n",
      "\u001b[33mWARNING: Running pip as the 'root' user can result in broken permissions and conflicting behaviour with the system package manager. It is recommended to use a virtual environment instead: https://pip.pypa.io/warnings/venv\u001b[0m\r\n",
      "Collecting mitdeeplearning\r\n",
      "  Downloading mitdeeplearning-0.2.0.tar.gz (2.1 MB)\r\n",
      "     |████████████████████████████████| 2.1 MB 623 kB/s            \r\n",
      "\u001b[?25h  Preparing metadata (setup.py) ... \u001b[?25l-\b \bdone\r\n",
      "\u001b[?25hRequirement already satisfied: numpy in /opt/conda/lib/python3.7/site-packages (from mitdeeplearning) (1.19.5)\r\n",
      "Requirement already satisfied: regex in /opt/conda/lib/python3.7/site-packages (from mitdeeplearning) (2021.11.10)\r\n",
      "Requirement already satisfied: tqdm in /opt/conda/lib/python3.7/site-packages (from mitdeeplearning) (4.62.3)\r\n",
      "Requirement already satisfied: gym in /opt/conda/lib/python3.7/site-packages (from mitdeeplearning) (0.23.1)\r\n",
      "Requirement already satisfied: gym-notices>=0.0.4 in /opt/conda/lib/python3.7/site-packages (from gym->mitdeeplearning) (0.0.6)\r\n",
      "Requirement already satisfied: importlib-metadata>=4.10.0 in /opt/conda/lib/python3.7/site-packages (from gym->mitdeeplearning) (4.11.3)\r\n",
      "Requirement already satisfied: cloudpickle>=1.2.0 in /opt/conda/lib/python3.7/site-packages (from gym->mitdeeplearning) (2.0.0)\r\n",
      "Requirement already satisfied: zipp>=0.5 in /opt/conda/lib/python3.7/site-packages (from importlib-metadata>=4.10.0->gym->mitdeeplearning) (3.6.0)\r\n",
      "Requirement already satisfied: typing-extensions>=3.6.4 in /opt/conda/lib/python3.7/site-packages (from importlib-metadata>=4.10.0->gym->mitdeeplearning) (3.7.4.3)\r\n",
      "Building wheels for collected packages: mitdeeplearning\r\n",
      "  Building wheel for mitdeeplearning (setup.py) ... \u001b[?25l-\b \b\\\b \b|\b \b/\b \bdone\r\n",
      "\u001b[?25h  Created wheel for mitdeeplearning: filename=mitdeeplearning-0.2.0-py3-none-any.whl size=2115442 sha256=174af837d815b3b73965e8f4795b9792fc257892ffd739b5b941b66fc44320c9\r\n",
      "  Stored in directory: /root/.cache/pip/wheels/9a/b9/4f/99b7c8c5c75355550b83e1fcfc02956fb40c35eb01e2262877\r\n",
      "Successfully built mitdeeplearning\r\n",
      "Installing collected packages: mitdeeplearning\r\n",
      "Successfully installed mitdeeplearning-0.2.0\r\n",
      "\u001b[33mWARNING: Running pip as the 'root' user can result in broken permissions and conflicting behaviour with the system package manager. It is recommended to use a virtual environment instead: https://pip.pypa.io/warnings/venv\u001b[0m\r\n"
     ]
    }
   ],
   "source": [
    "%matplotlib inline\n",
    "import tensorflow as tf \n",
    "!pip install tensorflowjs\n",
    "import tensorflowjs as tfjs\n",
    "!pip install mitdeeplearning\n",
    "import mitdeeplearning as mdl\n",
    "import numpy as np\n",
    "import os\n",
    "import time\n",
    "import functools\n",
    "from IPython import display as ipythondisplay\n",
    "from tqdm import tqdm"
   ]
  },
  {
   "cell_type": "code",
   "execution_count": 2,
   "id": "39960319",
   "metadata": {
    "execution": {
     "iopub.execute_input": "2022-04-16T07:26:08.580047Z",
     "iopub.status.busy": "2022-04-16T07:26:08.579055Z",
     "iopub.status.idle": "2022-04-16T07:26:09.356657Z",
     "shell.execute_reply": "2022-04-16T07:26:09.357248Z",
     "shell.execute_reply.started": "2022-04-14T17:44:58.201176Z"
    },
    "papermill": {
     "duration": 0.850802,
     "end_time": "2022-04-16T07:26:09.357502",
     "exception": false,
     "start_time": "2022-04-16T07:26:08.506700",
     "status": "completed"
    },
    "tags": []
   },
   "outputs": [
    {
     "name": "stdout",
     "output_type": "stream",
     "text": [
      "__notebook__.ipynb\r\n"
     ]
    }
   ],
   "source": [
    "!ls"
   ]
  },
  {
   "cell_type": "code",
   "execution_count": 3,
   "id": "b0883a79",
   "metadata": {
    "execution": {
     "iopub.execute_input": "2022-04-16T07:26:09.494501Z",
     "iopub.status.busy": "2022-04-16T07:26:09.493366Z",
     "iopub.status.idle": "2022-04-16T07:26:09.521707Z",
     "shell.execute_reply": "2022-04-16T07:26:09.521124Z",
     "shell.execute_reply.started": "2022-04-16T07:12:51.913289Z"
    },
    "papermill": {
     "duration": 0.098478,
     "end_time": "2022-04-16T07:26:09.521858",
     "exception": false,
     "start_time": "2022-04-16T07:26:09.423380",
     "status": "completed"
    },
    "tags": []
   },
   "outputs": [
    {
     "name": "stdout",
     "output_type": "stream",
     "text": [
      "Found 817 songs in text\n",
      "\n",
      "Example song: \n",
      "X:1\n",
      "T:Alexander's\n",
      "Z: id:dc-hornpipe-1\n",
      "M:C|\n",
      "L:1/8\n",
      "K:D Major\n",
      "(3ABc|dAFA DFAd|fdcd FAdf|gfge fefd|(3efe (3dcB A2 (3ABc|!\n",
      "dAFA DFAd|fdcd FAdf|gfge fefd|(3efe dc d2:|!\n",
      "AG|FAdA FAdA|GBdB GBdB|Acec Acec|dfaf gecA|!\n",
      "FAdA FAdA|GBdB GBdB|Aceg fefd|(3efe dc d2:|!\n"
     ]
    }
   ],
   "source": [
    "songs = mdl.lab1.load_training_data()\n",
    "example_song = songs[0]\n",
    "print(\"\\nExample song: \")\n",
    "print(example_song)"
   ]
  },
  {
   "cell_type": "code",
   "execution_count": 4,
   "id": "f3af22d9",
   "metadata": {
    "execution": {
     "iopub.execute_input": "2022-04-16T07:26:09.664389Z",
     "iopub.status.busy": "2022-04-16T07:26:09.663257Z",
     "iopub.status.idle": "2022-04-16T07:26:09.667526Z",
     "shell.execute_reply": "2022-04-16T07:26:09.668094Z",
     "shell.execute_reply.started": "2022-04-16T07:12:51.947964Z"
    },
    "papermill": {
     "duration": 0.0785,
     "end_time": "2022-04-16T07:26:09.668244",
     "exception": false,
     "start_time": "2022-04-16T07:26:09.589744",
     "status": "completed"
    },
    "tags": []
   },
   "outputs": [
    {
     "name": "stdout",
     "output_type": "stream",
     "text": [
      "There are 83 unique characters in the dataset\n"
     ]
    }
   ],
   "source": [
    "songs_joined = \"\\n\\n\".join(songs) \n",
    "\n",
    "vocab = sorted(set(songs_joined))\n",
    "print(\"There are\", len(vocab), \"unique characters in the dataset\")"
   ]
  },
  {
   "cell_type": "code",
   "execution_count": 5,
   "id": "d543dc31",
   "metadata": {
    "execution": {
     "iopub.execute_input": "2022-04-16T07:26:09.809921Z",
     "iopub.status.busy": "2022-04-16T07:26:09.808696Z",
     "iopub.status.idle": "2022-04-16T07:26:09.812051Z",
     "shell.execute_reply": "2022-04-16T07:26:09.811513Z",
     "shell.execute_reply.started": "2022-04-16T07:20:06.348252Z"
    },
    "papermill": {
     "duration": 0.074511,
     "end_time": "2022-04-16T07:26:09.812201",
     "exception": false,
     "start_time": "2022-04-16T07:26:09.737690",
     "status": "completed"
    },
    "tags": []
   },
   "outputs": [],
   "source": [
    "  \n",
    "char2idx = {u:i for i, u in enumerate(vocab)}\n",
    "\n",
    "\n",
    "idx2char = np.array(vocab)"
   ]
  },
  {
   "cell_type": "code",
   "execution_count": 6,
   "id": "a5b82561",
   "metadata": {
    "execution": {
     "iopub.execute_input": "2022-04-16T07:26:09.955181Z",
     "iopub.status.busy": "2022-04-16T07:26:09.950591Z",
     "iopub.status.idle": "2022-04-16T07:26:09.963564Z",
     "shell.execute_reply": "2022-04-16T07:26:09.962704Z",
     "shell.execute_reply.started": "2022-04-16T07:20:06.842814Z"
    },
    "papermill": {
     "duration": 0.0828,
     "end_time": "2022-04-16T07:26:09.963702",
     "exception": false,
     "start_time": "2022-04-16T07:26:09.880902",
     "status": "completed"
    },
    "tags": []
   },
   "outputs": [
    {
     "name": "stdout",
     "output_type": "stream",
     "text": [
      "{\n",
      "  '\\n':   0,\n",
      "  ' ' :   1,\n",
      "  '!' :   2,\n",
      "  '\"' :   3,\n",
      "  '#' :   4,\n",
      "  \"'\" :   5,\n",
      "  '(' :   6,\n",
      "  ')' :   7,\n",
      "  ',' :   8,\n",
      "  '-' :   9,\n",
      "  '.' :  10,\n",
      "  '/' :  11,\n",
      "  '0' :  12,\n",
      "  '1' :  13,\n",
      "  '2' :  14,\n",
      "  '3' :  15,\n",
      "  '4' :  16,\n",
      "  '5' :  17,\n",
      "  '6' :  18,\n",
      "  '7' :  19,\n",
      "  ...\n",
      "}\n"
     ]
    }
   ],
   "source": [
    "print('{')\n",
    "for char,_ in zip(char2idx, range(20)):\n",
    "    print('  {:4s}: {:3d},'.format(repr(char), char2idx[char]))\n",
    "print('  ...\\n}')"
   ]
  },
  {
   "cell_type": "code",
   "execution_count": 7,
   "id": "9709fef7",
   "metadata": {
    "execution": {
     "iopub.execute_input": "2022-04-16T07:26:10.142649Z",
     "iopub.status.busy": "2022-04-16T07:26:10.141746Z",
     "iopub.status.idle": "2022-04-16T07:26:10.145570Z",
     "shell.execute_reply": "2022-04-16T07:26:10.144978Z",
     "shell.execute_reply.started": "2022-04-16T07:20:07.212328Z"
    },
    "papermill": {
     "duration": 0.114317,
     "end_time": "2022-04-16T07:26:10.145706",
     "exception": false,
     "start_time": "2022-04-16T07:26:10.031389",
     "status": "completed"
    },
    "tags": []
   },
   "outputs": [],
   "source": [
    "def vectorize_string(string):\n",
    "  vectorized_output = np.array([char2idx[char] for char in string])\n",
    "  return vectorized_output\n",
    "\n",
    "vectorized_songs = vectorize_string(songs_joined)"
   ]
  },
  {
   "cell_type": "code",
   "execution_count": 8,
   "id": "bf84cbb5",
   "metadata": {
    "execution": {
     "iopub.execute_input": "2022-04-16T07:26:10.289619Z",
     "iopub.status.busy": "2022-04-16T07:26:10.288651Z",
     "iopub.status.idle": "2022-04-16T07:26:10.292875Z",
     "shell.execute_reply": "2022-04-16T07:26:10.293759Z",
     "shell.execute_reply.started": "2022-04-16T07:20:07.760861Z"
    },
    "papermill": {
     "duration": 0.07978,
     "end_time": "2022-04-16T07:26:10.293981",
     "exception": false,
     "start_time": "2022-04-16T07:26:10.214201",
     "status": "completed"
    },
    "tags": []
   },
   "outputs": [
    {
     "name": "stdout",
     "output_type": "stream",
     "text": [
      "'X:1\\nT:Alex' ---- characters mapped to int ----> [49 22 13  0 45 22 26 67 60 79]\n"
     ]
    }
   ],
   "source": [
    "print ('{} ---- characters mapped to int ----> {}'.format(repr(songs_joined[:10]), vectorized_songs[:10]))\n",
    "assert isinstance(vectorized_songs, np.ndarray), \"returned result should be a numpy array\""
   ]
  },
  {
   "cell_type": "code",
   "execution_count": 9,
   "id": "493e9543",
   "metadata": {
    "execution": {
     "iopub.execute_input": "2022-04-16T07:26:10.444295Z",
     "iopub.status.busy": "2022-04-16T07:26:10.443210Z",
     "iopub.status.idle": "2022-04-16T07:26:10.447477Z",
     "shell.execute_reply": "2022-04-16T07:26:10.448339Z",
     "shell.execute_reply.started": "2022-04-16T07:20:08.157637Z"
    },
    "papermill": {
     "duration": 0.085247,
     "end_time": "2022-04-16T07:26:10.448607",
     "exception": false,
     "start_time": "2022-04-16T07:26:10.363360",
     "status": "completed"
    },
    "tags": []
   },
   "outputs": [
    {
     "name": "stdout",
     "output_type": "stream",
     "text": [
      "[PASS] test_batch_func_types\n",
      "[PASS] test_batch_func_shapes\n",
      "[PASS] test_batch_func_next_step\n",
      "======\n",
      "[PASS] passed all tests!\n"
     ]
    }
   ],
   "source": [
    "def get_batch(vectorized_songs, seq_length, batch_size):\n",
    "  \n",
    "  n = vectorized_songs.shape[0] - 1\n",
    "  \n",
    "  idx = np.random.choice(n-seq_length, batch_size)\n",
    "\n",
    "  \n",
    "  input_batch = [vectorized_songs[i : i+seq_length] for i in idx]\n",
    "  \n",
    "  output_batch = [vectorized_songs[i+1 : i+seq_length+1] for i in idx]\n",
    "  \n",
    "\n",
    "  x_batch = np.reshape(input_batch, [batch_size, seq_length])\n",
    "  y_batch = np.reshape(output_batch, [batch_size, seq_length])\n",
    "  return x_batch, y_batch\n",
    "\n",
    "test_args = (vectorized_songs, 10, 2)\n",
    "if not mdl.lab1.test_batch_func_types(get_batch, test_args) or \\\n",
    "   not mdl.lab1.test_batch_func_shapes(get_batch, test_args) or \\\n",
    "   not mdl.lab1.test_batch_func_next_step(get_batch, test_args): \n",
    "   print(\"======\\n[FAIL] could not pass tests\")\n",
    "else: \n",
    "   print(\"======\\n[PASS] passed all tests!\")"
   ]
  },
  {
   "cell_type": "code",
   "execution_count": 10,
   "id": "df317f6a",
   "metadata": {
    "execution": {
     "iopub.execute_input": "2022-04-16T07:26:10.614564Z",
     "iopub.status.busy": "2022-04-16T07:26:10.613797Z",
     "iopub.status.idle": "2022-04-16T07:26:10.620153Z",
     "shell.execute_reply": "2022-04-16T07:26:10.619259Z",
     "shell.execute_reply.started": "2022-04-16T07:20:08.518198Z"
    },
    "papermill": {
     "duration": 0.10011,
     "end_time": "2022-04-16T07:26:10.620372",
     "exception": false,
     "start_time": "2022-04-16T07:26:10.520262",
     "status": "completed"
    },
    "tags": []
   },
   "outputs": [
    {
     "name": "stdout",
     "output_type": "stream",
     "text": [
      "Step   0\n",
      "  input: [ 2  0  0 49 22] (array(['!', '\\n', '\\n', 'X', ':'], dtype='<U1'))\n",
      "  expected output: [ 0  0 49 22 19] (array(['\\n', '\\n', 'X', ':', '7'], dtype='<U1'))\n",
      "Step   1\n",
      "  input: [21  0 45 22 33] (array(['9', '\\n', 'T', ':', 'H'], dtype='<U1'))\n",
      "  expected output: [ 0 45 22 33 56] (array(['\\n', 'T', ':', 'H', 'a'], dtype='<U1'))\n"
     ]
    }
   ],
   "source": [
    "x_batch, y_batch = get_batch(vectorized_songs, seq_length=5, batch_size=2)\n",
    "\n",
    "for i, (input_idx, target_idx) in enumerate(zip(np.squeeze(x_batch), np.squeeze(y_batch))):\n",
    "    print(\"Step {:3d}\".format(i))\n",
    "    print(\"  input: {} ({:s})\".format(input_idx, repr(idx2char[input_idx])))\n",
    "    print(\"  expected output: {} ({:s})\".format(target_idx, repr(idx2char[target_idx])))"
   ]
  },
  {
   "cell_type": "code",
   "execution_count": 11,
   "id": "d09847b4",
   "metadata": {
    "execution": {
     "iopub.execute_input": "2022-04-16T07:26:10.818646Z",
     "iopub.status.busy": "2022-04-16T07:26:10.817511Z",
     "iopub.status.idle": "2022-04-16T07:26:10.820093Z",
     "shell.execute_reply": "2022-04-16T07:26:10.820765Z",
     "shell.execute_reply.started": "2022-04-16T07:20:08.883789Z"
    },
    "papermill": {
     "duration": 0.097747,
     "end_time": "2022-04-16T07:26:10.820946",
     "exception": false,
     "start_time": "2022-04-16T07:26:10.723199",
     "status": "completed"
    },
    "tags": []
   },
   "outputs": [],
   "source": [
    "def LSTM(rnn_units): \n",
    "  return tf.keras.layers.LSTM(\n",
    "    rnn_units, \n",
    "    return_sequences=True, \n",
    "    recurrent_initializer='glorot_uniform',\n",
    "    recurrent_activation='sigmoid',\n",
    "    stateful=True,\n",
    "  )"
   ]
  },
  {
   "cell_type": "code",
   "execution_count": 12,
   "id": "9661b066",
   "metadata": {
    "execution": {
     "iopub.execute_input": "2022-04-16T07:26:10.969699Z",
     "iopub.status.busy": "2022-04-16T07:26:10.968665Z",
     "iopub.status.idle": "2022-04-16T07:26:14.222002Z",
     "shell.execute_reply": "2022-04-16T07:26:14.222520Z",
     "shell.execute_reply.started": "2022-04-16T07:20:09.222885Z"
    },
    "papermill": {
     "duration": 3.330799,
     "end_time": "2022-04-16T07:26:14.222722",
     "exception": false,
     "start_time": "2022-04-16T07:26:10.891923",
     "status": "completed"
    },
    "tags": []
   },
   "outputs": [
    {
     "name": "stderr",
     "output_type": "stream",
     "text": [
      "2022-04-16 07:26:11.080347: I tensorflow/stream_executor/cuda/cuda_gpu_executor.cc:937] successful NUMA node read from SysFS had negative value (-1), but there must be at least one NUMA node, so returning NUMA node zero\n",
      "2022-04-16 07:26:11.181883: I tensorflow/stream_executor/cuda/cuda_gpu_executor.cc:937] successful NUMA node read from SysFS had negative value (-1), but there must be at least one NUMA node, so returning NUMA node zero\n",
      "2022-04-16 07:26:11.183259: I tensorflow/stream_executor/cuda/cuda_gpu_executor.cc:937] successful NUMA node read from SysFS had negative value (-1), but there must be at least one NUMA node, so returning NUMA node zero\n",
      "2022-04-16 07:26:11.185706: I tensorflow/core/platform/cpu_feature_guard.cc:142] This TensorFlow binary is optimized with oneAPI Deep Neural Network Library (oneDNN) to use the following CPU instructions in performance-critical operations:  AVX2 FMA\n",
      "To enable them in other operations, rebuild TensorFlow with the appropriate compiler flags.\n",
      "2022-04-16 07:26:11.187144: I tensorflow/stream_executor/cuda/cuda_gpu_executor.cc:937] successful NUMA node read from SysFS had negative value (-1), but there must be at least one NUMA node, so returning NUMA node zero\n",
      "2022-04-16 07:26:11.188347: I tensorflow/stream_executor/cuda/cuda_gpu_executor.cc:937] successful NUMA node read from SysFS had negative value (-1), but there must be at least one NUMA node, so returning NUMA node zero\n",
      "2022-04-16 07:26:11.189413: I tensorflow/stream_executor/cuda/cuda_gpu_executor.cc:937] successful NUMA node read from SysFS had negative value (-1), but there must be at least one NUMA node, so returning NUMA node zero\n",
      "2022-04-16 07:26:13.514343: I tensorflow/stream_executor/cuda/cuda_gpu_executor.cc:937] successful NUMA node read from SysFS had negative value (-1), but there must be at least one NUMA node, so returning NUMA node zero\n",
      "2022-04-16 07:26:13.515544: I tensorflow/stream_executor/cuda/cuda_gpu_executor.cc:937] successful NUMA node read from SysFS had negative value (-1), but there must be at least one NUMA node, so returning NUMA node zero\n",
      "2022-04-16 07:26:13.516561: I tensorflow/stream_executor/cuda/cuda_gpu_executor.cc:937] successful NUMA node read from SysFS had negative value (-1), but there must be at least one NUMA node, so returning NUMA node zero\n",
      "2022-04-16 07:26:13.517518: I tensorflow/core/common_runtime/gpu/gpu_device.cc:1510] Created device /job:localhost/replica:0/task:0/device:GPU:0 with 15403 MB memory:  -> device: 0, name: Tesla P100-PCIE-16GB, pci bus id: 0000:00:04.0, compute capability: 6.0\n"
     ]
    }
   ],
   "source": [
    "def build_model(vocab_size, embedding_dim, rnn_units, batch_size):\n",
    "  model = tf.keras.Sequential([\n",
    "    tf.keras.layers.Embedding(vocab_size, embedding_dim, batch_input_shape=[batch_size, None]),\n",
    "    LSTM(rnn_units), \n",
    "    tf.keras.layers.Dense(vocab_size)\n",
    "  ])\n",
    "\n",
    "  return model\n",
    "\n",
    "model = build_model(len(vocab), embedding_dim=256, rnn_units=1024, batch_size=32)"
   ]
  },
  {
   "cell_type": "code",
   "execution_count": 13,
   "id": "e9bb61f6",
   "metadata": {
    "execution": {
     "iopub.execute_input": "2022-04-16T07:26:14.372423Z",
     "iopub.status.busy": "2022-04-16T07:26:14.371319Z",
     "iopub.status.idle": "2022-04-16T07:26:15.198298Z",
     "shell.execute_reply": "2022-04-16T07:26:15.197285Z",
     "shell.execute_reply.started": "2022-04-16T07:20:12.653796Z"
    },
    "papermill": {
     "duration": 0.904452,
     "end_time": "2022-04-16T07:26:15.198549",
     "exception": false,
     "start_time": "2022-04-16T07:26:14.294097",
     "status": "completed"
    },
    "tags": []
   },
   "outputs": [
    {
     "name": "stdout",
     "output_type": "stream",
     "text": [
      "Model: \"sequential\"\n",
      "_________________________________________________________________\n",
      "Layer (type)                 Output Shape              Param #   \n",
      "=================================================================\n",
      "embedding (Embedding)        (32, None, 256)           21248     \n",
      "_________________________________________________________________\n",
      "lstm (LSTM)                  (32, None, 1024)          5246976   \n",
      "_________________________________________________________________\n",
      "dense (Dense)                (32, None, 83)            85075     \n",
      "=================================================================\n",
      "Total params: 5,353,299\n",
      "Trainable params: 5,353,299\n",
      "Non-trainable params: 0\n",
      "_________________________________________________________________\n"
     ]
    }
   ],
   "source": [
    "model.summary()\n",
    "tf.keras.utils.plot_model(model);"
   ]
  },
  {
   "cell_type": "code",
   "execution_count": 14,
   "id": "641e9cdd",
   "metadata": {
    "execution": {
     "iopub.execute_input": "2022-04-16T07:26:15.347668Z",
     "iopub.status.busy": "2022-04-16T07:26:15.346375Z",
     "iopub.status.idle": "2022-04-16T07:26:17.465055Z",
     "shell.execute_reply": "2022-04-16T07:26:17.465989Z",
     "shell.execute_reply.started": "2022-04-16T07:20:13.379138Z"
    },
    "papermill": {
     "duration": 2.197224,
     "end_time": "2022-04-16T07:26:17.466266",
     "exception": false,
     "start_time": "2022-04-16T07:26:15.269042",
     "status": "completed"
    },
    "tags": []
   },
   "outputs": [
    {
     "name": "stderr",
     "output_type": "stream",
     "text": [
      "2022-04-16 07:26:16.337319: I tensorflow/stream_executor/cuda/cuda_dnn.cc:369] Loaded cuDNN version 8005\n"
     ]
    },
    {
     "name": "stdout",
     "output_type": "stream",
     "text": [
      "Input shape:       (32, 100)  # (batch_size, sequence_length)\n",
      "Prediction shape:  (32, 100, 83) # (batch_size, sequence_length, vocab_size)\n"
     ]
    }
   ],
   "source": [
    "x, y = get_batch(vectorized_songs, seq_length=100, batch_size=32)\n",
    "pred = model(x)\n",
    "print(\"Input shape:      \", x.shape, \" # (batch_size, sequence_length)\")\n",
    "print(\"Prediction shape: \", pred.shape, \"# (batch_size, sequence_length, vocab_size)\")"
   ]
  },
  {
   "cell_type": "code",
   "execution_count": 15,
   "id": "0e98d5e6",
   "metadata": {
    "execution": {
     "iopub.execute_input": "2022-04-16T07:26:17.631615Z",
     "iopub.status.busy": "2022-04-16T07:26:17.630839Z",
     "iopub.status.idle": "2022-04-16T07:26:17.647931Z",
     "shell.execute_reply": "2022-04-16T07:26:17.646930Z",
     "shell.execute_reply.started": "2022-04-16T07:20:16.887918Z"
    },
    "papermill": {
     "duration": 0.103418,
     "end_time": "2022-04-16T07:26:17.648069",
     "exception": false,
     "start_time": "2022-04-16T07:26:17.544651",
     "status": "completed"
    },
    "tags": []
   },
   "outputs": [
    {
     "data": {
      "text/plain": [
       "array([39, 70, 35, 61, 43, 80, 60,  4, 66, 64, 82, 23, 79, 72,  1, 37, 48,\n",
       "       32, 57, 18, 12, 44, 64, 37, 61, 15, 49, 63, 67, 58, 36, 36, 66, 63,\n",
       "       63, 82, 40, 49, 17, 63, 11, 80, 64, 32, 69, 74, 27, 52, 61, 82, 57,\n",
       "       36, 68, 65,  1, 47, 71, 58,  5, 64,  4, 54, 61, 70, 55,  4, 38, 82,\n",
       "       60,  6, 10, 74, 40, 81, 49, 15, 60, 33, 42, 82, 76, 33, 57, 15, 21,\n",
       "       34, 80, 54,  4, 63, 33, 11, 41, 59, 45, 36, 19, 75, 73, 73])"
      ]
     },
     "execution_count": 15,
     "metadata": {},
     "output_type": "execute_result"
    }
   ],
   "source": [
    "sampled_indices = tf.random.categorical(pred[0], num_samples=1)\n",
    "sampled_indices = tf.squeeze(sampled_indices,axis=-1).numpy()\n",
    "sampled_indices"
   ]
  },
  {
   "cell_type": "code",
   "execution_count": 16,
   "id": "d46f3efb",
   "metadata": {
    "execution": {
     "iopub.execute_input": "2022-04-16T07:26:17.798015Z",
     "iopub.status.busy": "2022-04-16T07:26:17.796463Z",
     "iopub.status.idle": "2022-04-16T07:26:17.802426Z",
     "shell.execute_reply": "2022-04-16T07:26:17.803340Z",
     "shell.execute_reply.started": "2022-04-16T07:20:17.608743Z"
    },
    "papermill": {
     "duration": 0.083099,
     "end_time": "2022-04-16T07:26:17.803635",
     "exception": false,
     "start_time": "2022-04-16T07:26:17.720536",
     "status": "completed"
    },
    "tags": []
   },
   "outputs": [
    {
     "name": "stdout",
     "output_type": "stream",
     "text": [
      "Input: \n",
      " 'len Road to Carrick\\nZ: id:dc-reel-115\\nM:C\\nL:1/8\\nK:D Mixolydian\\nzAG|FDD2 FDGE|FDFG ABGA|FDD2 FDGF|Edc'\n",
      "\n",
      "Next Char Predictions: \n",
      " \"NoJfRye#ki|<xq LWGb60SiLf3XhlcKKkhh|OX5h/yiGnsB[f|bKmj Vpc'i#^fo_#M|e(.sOzX3eHQ|uHb39Iy^#hH/PdTK7trr\"\n"
     ]
    }
   ],
   "source": [
    "print(\"Input: \\n\", repr(\"\".join(idx2char[x[0]])))\n",
    "print()\n",
    "print(\"Next Char Predictions: \\n\", repr(\"\".join(idx2char[sampled_indices])))"
   ]
  },
  {
   "cell_type": "code",
   "execution_count": 17,
   "id": "60a98a82",
   "metadata": {
    "execution": {
     "iopub.execute_input": "2022-04-16T07:26:17.954771Z",
     "iopub.status.busy": "2022-04-16T07:26:17.953686Z",
     "iopub.status.idle": "2022-04-16T07:26:17.981586Z",
     "shell.execute_reply": "2022-04-16T07:26:17.982158Z",
     "shell.execute_reply.started": "2022-04-16T07:20:18.496948Z"
    },
    "papermill": {
     "duration": 0.106444,
     "end_time": "2022-04-16T07:26:17.982344",
     "exception": false,
     "start_time": "2022-04-16T07:26:17.875900",
     "status": "completed"
    },
    "tags": []
   },
   "outputs": [
    {
     "name": "stdout",
     "output_type": "stream",
     "text": [
      "Prediction shape:  (32, 100, 83)  # (batch_size, sequence_length, vocab_size)\n",
      "scalar_loss:       4.420583\n"
     ]
    }
   ],
   "source": [
    "def compute_loss(labels, logits):\n",
    "  loss = tf.keras.losses.sparse_categorical_crossentropy(labels, logits, from_logits=True)\n",
    "  \n",
    "  return loss\n",
    "\n",
    "example_batch_loss = compute_loss(y, pred)\n",
    "\n",
    "print(\"Prediction shape: \", pred.shape, \" # (batch_size, sequence_length, vocab_size)\") \n",
    "print(\"scalar_loss:      \", example_batch_loss.numpy().mean())"
   ]
  },
  {
   "cell_type": "code",
   "execution_count": 18,
   "id": "fd2db9fd",
   "metadata": {
    "execution": {
     "iopub.execute_input": "2022-04-16T07:26:18.133208Z",
     "iopub.status.busy": "2022-04-16T07:26:18.132098Z",
     "iopub.status.idle": "2022-04-16T07:26:18.135421Z",
     "shell.execute_reply": "2022-04-16T07:26:18.134847Z",
     "shell.execute_reply.started": "2022-04-16T07:20:20.891499Z"
    },
    "papermill": {
     "duration": 0.08155,
     "end_time": "2022-04-16T07:26:18.135605",
     "exception": false,
     "start_time": "2022-04-16T07:26:18.054055",
     "status": "completed"
    },
    "tags": []
   },
   "outputs": [],
   "source": [
    "num_training_iterations = 2000 \n",
    "batch_size = 4  \n",
    "seq_length = 100 \n",
    "learning_rate = 5e-3  \n",
    "\n",
    "# Model parameters: \n",
    "vocab_size = len(vocab)\n",
    "embedding_dim = 256 \n",
    "rnn_units = 1024 \n",
    "\n",
    "# Checkpoint location: \n",
    "checkpoint_dir = './training_checkpoints'\n",
    "checkpoint_prefix = os.path.join(checkpoint_dir, \"my_ckpt\")\n",
    "\n"
   ]
  },
  {
   "cell_type": "code",
   "execution_count": 19,
   "id": "d153049b",
   "metadata": {
    "execution": {
     "iopub.execute_input": "2022-04-16T07:26:18.297966Z",
     "iopub.status.busy": "2022-04-16T07:26:18.296814Z",
     "iopub.status.idle": "2022-04-16T07:27:11.037818Z",
     "shell.execute_reply": "2022-04-16T07:27:11.038290Z",
     "shell.execute_reply.started": "2022-04-16T07:20:26.045372Z"
    },
    "papermill": {
     "duration": 52.830973,
     "end_time": "2022-04-16T07:27:11.038512",
     "exception": false,
     "start_time": "2022-04-16T07:26:18.207539",
     "status": "completed"
    },
    "tags": []
   },
   "outputs": [
    {
     "data": {
      "image/png": "[encoded data removed]",
      "text/plain": [
       "<Figure size 432x288 with 1 Axes>"
      ]
     },
     "metadata": {},
     "output_type": "display_data"
    },
    {
     "name": "stderr",
     "output_type": "stream",
     "text": [
      "100%|██████████| 2000/2000 [00:52<00:00, 38.34it/s]\n"
     ]
    },
    {
     "data": {
      "image/png": "[encoded data removed]",
      "text/plain": [
       "<Figure size 432x288 with 1 Axes>"
      ]
     },
     "metadata": {
      "needs_background": "light"
     },
     "output_type": "display_data"
    }
   ],
   "source": [
    "### Optimizer and training operation ###\n",
    "\n",
    "model = build_model(vocab_size, embedding_dim, rnn_units, batch_size)\n",
    "optimizer = tf.keras.optimizers.Adam(learning_rate)\n",
    "\n",
    "@tf.function\n",
    "def train_step(x, y): \n",
    "  with tf.GradientTape() as tape:\n",
    "    y_hat = model(x) \n",
    "    \n",
    "    loss = compute_loss(y, y_hat)\n",
    "  grads = tape.gradient(loss, model.trainable_variables)\n",
    "  optimizer.apply_gradients(zip(grads, model.trainable_variables))\n",
    "  return loss\n",
    "\n",
    "############\n",
    "# training!#\n",
    "############\n",
    "\n",
    "history = []\n",
    "plotter = mdl.util.PeriodicPlotter(sec=2, xlabel='Iterations', ylabel='Loss')\n",
    "if hasattr(tqdm, '_instances'): tqdm._instances.clear()\n",
    "\n",
    "for iter in tqdm(range(num_training_iterations)):\n",
    "\n",
    "  \n",
    "  x_batch, y_batch = get_batch(vectorized_songs, seq_length, batch_size)\n",
    "  loss = train_step(x_batch, y_batch)\n",
    "\n",
    "  \n",
    "  history.append(loss.numpy().mean())\n",
    "  plotter.plot(history)\n",
    "\n",
    " \n",
    "  if iter % 100 == 0:     \n",
    "    model.save_weights(checkpoint_prefix)\n",
    "\n",
    "model.save_weights(checkpoint_prefix)"
   ]
  },
  {
   "cell_type": "code",
   "execution_count": 20,
   "id": "76b2542b",
   "metadata": {
    "execution": {
     "iopub.execute_input": "2022-04-16T07:27:11.301361Z",
     "iopub.status.busy": "2022-04-16T07:27:11.300261Z",
     "iopub.status.idle": "2022-04-16T07:27:11.415172Z",
     "shell.execute_reply": "2022-04-16T07:27:11.414240Z",
     "shell.execute_reply.started": "2022-04-16T07:24:43.329195Z"
    },
    "papermill": {
     "duration": 0.299897,
     "end_time": "2022-04-16T07:27:11.415385",
     "exception": false,
     "start_time": "2022-04-16T07:27:11.115488",
     "status": "completed"
    },
    "tags": []
   },
   "outputs": [
    {
     "name": "stderr",
     "output_type": "stream",
     "text": [
      "/opt/conda/lib/python3.7/site-packages/tensorflowjs/write_weights.py:262: DeprecationWarning: `np.object` is a deprecated alias for the builtin `object`. To silence this warning, use `object` by itself. Doing this will not modify any behavior and is safe. \n",
      "Deprecated in NumPy 1.20; for more details and guidance: https://numpy.org/devdocs/release/1.20.0-notes.html#deprecations\n",
      "  if data.dtype == np.object:\n"
     ]
    }
   ],
   "source": [
    "import tensorflowjs as tfjs\n",
    "\n",
    "tfjs.converters.save_keras_model(model, \"./m.json\")"
   ]
  },
  {
   "cell_type": "code",
   "execution_count": 21,
   "id": "a73bafea",
   "metadata": {
    "execution": {
     "iopub.execute_input": "2022-04-16T07:27:11.586146Z",
     "iopub.status.busy": "2022-04-16T07:27:11.585037Z",
     "iopub.status.idle": "2022-04-16T07:27:11.933168Z",
     "shell.execute_reply": "2022-04-16T07:27:11.932556Z",
     "shell.execute_reply.started": "2022-04-14T17:46:52.732828Z"
    },
    "papermill": {
     "duration": 0.438213,
     "end_time": "2022-04-16T07:27:11.933326",
     "exception": false,
     "start_time": "2022-04-16T07:27:11.495113",
     "status": "completed"
    },
    "tags": []
   },
   "outputs": [
    {
     "name": "stdout",
     "output_type": "stream",
     "text": [
      "Model: \"sequential_2\"\n",
      "_________________________________________________________________\n",
      "Layer (type)                 Output Shape              Param #   \n",
      "=================================================================\n",
      "embedding_2 (Embedding)      (1, None, 256)            21248     \n",
      "_________________________________________________________________\n",
      "lstm_2 (LSTM)                (1, None, 1024)           5246976   \n",
      "_________________________________________________________________\n",
      "dense_2 (Dense)              (1, None, 83)             85075     \n",
      "=================================================================\n",
      "Total params: 5,353,299\n",
      "Trainable params: 5,353,299\n",
      "Non-trainable params: 0\n",
      "_________________________________________________________________\n"
     ]
    }
   ],
   "source": [
    "\n",
    "model = build_model(vocab_size, embedding_dim, rnn_units, batch_size=1) \n",
    "model.load_weights(tf.train.latest_checkpoint(checkpoint_dir))\n",
    "model.build(tf.TensorShape([1, None]))\n",
    "\n",
    "model.summary()\n",
    "model.save(\"m.hdf5\")"
   ]
  },
  {
   "cell_type": "code",
   "execution_count": 22,
   "id": "693d37c5",
   "metadata": {
    "execution": {
     "iopub.execute_input": "2022-04-16T07:27:12.099373Z",
     "iopub.status.busy": "2022-04-16T07:27:12.098348Z",
     "iopub.status.idle": "2022-04-16T07:27:12.102018Z",
     "shell.execute_reply": "2022-04-16T07:27:12.101507Z",
     "shell.execute_reply.started": "2022-04-14T17:47:05.842248Z"
    },
    "papermill": {
     "duration": 0.089793,
     "end_time": "2022-04-16T07:27:12.102153",
     "exception": false,
     "start_time": "2022-04-16T07:27:12.012360",
     "status": "completed"
    },
    "tags": []
   },
   "outputs": [],
   "source": [
    "### Prediction of a generated song ###\n",
    "\n",
    "def generate_text(model, start_string, generation_length=1000):\n",
    "  input_eval = [char2idx[s] for s in start_string] \n",
    "  input_eval = tf.expand_dims(input_eval, 0)\n",
    "\n",
    " \n",
    "  text_generated = []\n",
    "\n",
    "  \n",
    "  model.reset_states()\n",
    "  tqdm._instances.clear()\n",
    "\n",
    "  for i in tqdm(range(generation_length)):\n",
    "      \n",
    "      predictions = model(input_eval)\n",
    "      \n",
    "      predictions = tf.squeeze(predictions, 0)\n",
    "      \n",
    "    \n",
    "      predicted_id = tf.random.categorical(predictions, num_samples=1)[-1,0].numpy()\n",
    "      input_eval = tf.expand_dims([predicted_id], 0)\n",
    "      text_generated.append(idx2char[predicted_id])  \n",
    "      \n",
    "  return (start_string + ''.join(text_generated))"
   ]
  },
  {
   "cell_type": "code",
   "execution_count": 23,
   "id": "75a8ff93",
   "metadata": {
    "execution": {
     "iopub.execute_input": "2022-04-16T07:27:12.262591Z",
     "iopub.status.busy": "2022-04-16T07:27:12.261842Z",
     "iopub.status.idle": "2022-04-16T07:27:33.102950Z",
     "shell.execute_reply": "2022-04-16T07:27:33.103511Z",
     "shell.execute_reply.started": "2022-04-14T17:47:08.040741Z"
    },
    "papermill": {
     "duration": 20.925042,
     "end_time": "2022-04-16T07:27:33.103698",
     "exception": false,
     "start_time": "2022-04-16T07:27:12.178656",
     "status": "completed"
    },
    "tags": []
   },
   "outputs": [
    {
     "name": "stderr",
     "output_type": "stream",
     "text": [
      "100%|██████████| 3000/3000 [00:20<00:00, 144.01it/s]\n"
     ]
    }
   ],
   "source": [
    "generated_text = generate_text(model, start_string=\"G\", generation_length=3000)"
   ]
  },
  {
   "cell_type": "code",
   "execution_count": 24,
   "id": "75ff7547",
   "metadata": {
    "execution": {
     "iopub.execute_input": "2022-04-16T07:27:33.431738Z",
     "iopub.status.busy": "2022-04-16T07:27:33.429212Z",
     "iopub.status.idle": "2022-04-16T07:27:33.441559Z",
     "shell.execute_reply": "2022-04-16T07:27:33.440869Z",
     "shell.execute_reply.started": "2022-04-14T15:24:11.565651Z"
    },
    "papermill": {
     "duration": 0.177815,
     "end_time": "2022-04-16T07:27:33.441721",
     "exception": false,
     "start_time": "2022-04-16T07:27:33.263906",
     "status": "completed"
    },
    "tags": []
   },
   "outputs": [
    {
     "name": "stdout",
     "output_type": "stream",
     "text": [
      "Found 14 songs in text\n",
      "Gg f2e|fed cAG|!\n",
      "G Bd|e>f g2|eg g>a|g>g ab|af ed|ef ef|!\n",
      "g2 a/g/f/e/d/|GB G>A BB|G4 cd|ef eg|!\n",
      "fc AB/A/|G>B BA|BA Ae/e/|dB A/B/A/|BA AB/|ce gage|dfdB AGFG|[1 G ABc|d2e fag fde|!\n",
      "GBd gdB|AGA BGG|ABd gdB|AGF G2:|!\n",
      "\n",
      "X:62\n",
      "T:Lack Street\n",
      "Z: id:dc-reel-373\n",
      "M:C\n",
      "L:1/8\n",
      "K:D Mixolydian\n",
      "e|faa a2b|a^ga aa^g|aga ged|cAG FGD|!\n",
      "ABA fAA|gfg fed|cdB GAB|Ad^c def|!\n",
      "gfg age|dBAB GBdB|ABAG EFGA|BddB AEE2|]!\n",
      "\n",
      "X:220\n",
      "T:Maids of Street\n",
      "Z: id:dc-reel-132\n",
      "M:C\n",
      "L:1/8\n",
      "K:G Major\n",
      "AB|ABBG AGEG|ABAG EFGA|BcBA GED2|ABAG FDA|]!\n",
      "\n",
      "X:7\n",
      "T:Paddy Damblor's Peeder\n",
      "Z: id:dc-setdance-19\n",
      "M:6/8\n",
      "L:1/8\n",
      "K:A Mixolydian\n",
      "gfg ege|dBG GEB|AGA B2|!\n",
      "AB A2|AB d>e|fe de|gf edBA BGAF|!\n",
      "Aceg fedf edBA|BdGA Bdgd|efge BBBd|cdB BA:|!\n",
      "\n",
      "X:219\n",
      "T:Langst Holey\n",
      "Z: id:dc-jig-187\n",
      "M:D:|[2 G2dG BGG2|]!\n",
      "B|dBAB ABdB|AdBd Adfd|eaab aged|cdef g4|\n",
      "M:4/4\n",
      "Bc|BdB|def gga|bab at\n",
      "Z: id:dc-jig-123\n",
      "M:6/8\n",
      "L:1/8\n",
      "K:E Minor\n",
      "D2B,2 G,2A,2|B,c,G,G,B,A,A,G,A, DB,F,D|dcde faec|cBAF GABc|!\n",
      "d2ed ecA2AF|GFGB cdcB|AGFE DEF2|CGAG ABcA|B2dB FAA:|!\n",
      "f|g2A2 A2d2|cAA2 eaf2|gafg efed|Bdgd BAAB|ecAc BAGB|!\n",
      "A3B ADFB|cAdc eAcA|eA fAe|[1 f2g2 gedB|B2AB G2:|!\n",
      "Bc|d2eg fdBA|G3B =cAA2|cABG ABG2|]!\n",
      "\n",
      "X:83\n",
      "T:Gill Howe\n",
      "Z: id:dc-jig-17\n",
      "M:6/8\n",
      "L:1/8\n",
      "K:D Minor\n",
      "GA|BdG GBd|ABA A2F|AGF GAB|cEE DED|!\n",
      "GBd efg|dBG BGB|AGF G3B AGF|DA,A,C\n",
      "L:1/8\n",
      "K:A Mixolydian\n",
      "D|D2EF DGFB|cAFA DAFA|BAGF G,A,B,D|G,2CC E,G,G,2|!\n",
      "A2d B2A|d2B AGF|EGA d2A|BdG BAG|AcB ABc|dcB AGF|!\n",
      "GAd BdB|AGF G2B|AGF G3|!\n",
      "GBB B2G|AcG EFD|EFG Bcd|ecA AGA|!\n",
      "B2d g3|]!\n",
      "\n",
      "X:2\n",
      "T:Blets on the Powe\n",
      "Z: id:dc-jig-7\n",
      "M:6/8\n",
      "L:1/8\n",
      "K:D Dorian\n",
      "A|BGDG BGDG| A,2A,2ED2 B,2EB,|A,CDE F2DF|EGFG eAce|!\n",
      "cBAF DAFA|BAGF GBdB|AGAB dBef|gfed BAFB|AFFF G2:|!\n",
      "f|aAA2 aece|afge e2fe|dcBc A2EA|BAFD EFGB|!\n",
      "A3 ecA2|cABG FGAB|cAGE FGAB|cBcd efge|]!\n",
      "\n",
      "X:300\n",
      "T:Mrish on the Un Cockbees\n",
      "Z: id:dc-reel-147\n",
      "M:C\n",
      "L:1/8\n",
      "K:G Major\n",
      "B,|DGA2 BAGA|BdG2 BGDG|B2Bd gdBG|ABAG FDD:|!\n",
      "\n",
      "X:19\n",
      "T:Kitty's Publ\n",
      "Z: id:dc-reel-75\n",
      "M:C\n",
      "L:1/8\n",
      "K:D Mixolydian\n",
      "^FE|DGG2 BdGA|Bdd^c d=cAB|cBcd egag|fgefg edgd|!\n",
      "e2ge eaaf|gfgg a2|]!\n",
      "\n",
      "X:21\n",
      "T:Mimry Rushele\n",
      "Z: id:dc-jig-2\n",
      "M:6/8\n",
      "L:1/8\n",
      "K:D Major\n",
      "D|G2G BGB|AFE cBc|BAB ABd|AFE =FBB:|!\n",
      "cBA A2e|afd edd|^cAA ABG|ABA G2|]!\n",
      "\n",
      "X:24\n",
      "T:Movistta2 Merrm\n",
      "Z: id:dc-jig-131\n",
      "M:6/8\n",
      "L:1/8\n",
      "K:A Dorian\n",
      "G|EAAB cBAG|FEFG edBc|dfec Bcde|f2ec dfec|ecAB AFED:|!\n",
      "\n",
      "X:2\n",
      "T:Battle Hoad\n",
      "Z: id:dc-jig-72\n",
      "M:6/8\n",
      "L:1/8\n",
      "K:D Mickord\n",
      "Z: id:dc-reel-391\n",
      "M:C\n",
      "L:1/8\n",
      "K:D Major\n",
      "G>A BAG|FGA Bcd|eag ged|cAA A:|!\n",
      "\n",
      "X:2\n",
      "T:Bledmister Coppest\n",
      "Z: id:dc-reel-391\n",
      "M:C\n",
      "L:1/8\n",
      "K:A Mixolydian\n",
      "BA|EDB,E CDEF|!\n",
      "A3B A|B2d edB|AGE E2F|ABd eBB|ged efg|!\n",
      "gag fgfefga|bfaf gfeg|fdef gfee|dfge dfed|AB A3:|!\n",
      "\n",
      "X:22\n",
      "T:Lasthe Brow\n",
      "Z: id:dc-reel-176\n",
      "M:C\n",
      "L:1/8\n",
      "K:D Misoite\n",
      "Z: id:dc-setdano\n",
      "Z: id:dc-jig-75\n",
      "M:6/8\n",
      "L:1/8\n",
      "K:A Mixolydian\n",
      "A|d^cd A2f|gfg edg|gfe edB|ABA BAA|BdB GBA|BGG FED EDB,G,A,:|!\n",
      "A|BAe ed^g|(3deg fd=cA|Bd g2|f2 g2 f2|!\n",
      "ef ef|g3 e ed|Ad fd Ad|efge adgd|!\n",
      "f2d dcd|EFG AGF|GAB A2|]!\n",
      "\n"
     ]
    }
   ],
   "source": [
    "### Play back generated songs ###\n",
    "\n",
    "generated_songs = mdl.lab1.extract_song_snippet(generated_text)\n",
    "\n",
    "for i, song in enumerate(generated_songs):\n",
    "    print(song)\n",
    "    print()"
   ]
  }
 ],
 "metadata": {
  "kernelspec": {
   "display_name": "Python 3",
   "language": "python",
   "name": "python3"
  },
  "language_info": {
   "codemirror_mode": {
    "name": "ipython",
    "version": 3
   },
   "file_extension": ".py",
   "mimetype": "text/x-python",
   "name": "python",
   "nbconvert_exporter": "python",
   "pygments_lexer": "ipython3",
   "version": "3.7.12"
  },
  "papermill": {
   "default_parameters": {},
   "duration": 154.795745,
   "end_time": "2022-04-16T07:27:37.761486",
   "environment_variables": {},
   "exception": null,
   "input_path": "__notebook__.ipynb",
   "output_path": "__notebook__.ipynb",
   "parameters": {},
   "start_time": "2022-04-16T07:25:02.965741",
   "version": "2.3.3"
  }
 },
 "nbformat": 4,
 "nbformat_minor": 5
}
